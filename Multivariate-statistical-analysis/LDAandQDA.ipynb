{
 "cells": [
  {
   "cell_type": "code",
   "execution_count": 1,
   "metadata": {},
   "outputs": [],
   "source": [
    "import pandas as pd\n",
    "import numpy as np\n",
    "import seaborn as sns\n",
    "import matplotlib.pyplot as plt\n",
    "%matplotlib inline\n",
    "plt.style.use('ggplot')\n",
    "import json\n",
    "import warnings\n",
    "warnings.filterwarnings('ignore')#忽略警告"
   ]
  },
  {
   "cell_type": "code",
   "execution_count": 2,
   "metadata": {},
   "outputs": [
    {
     "data": {
      "text/html": [
       "<div>\n",
       "<style scoped>\n",
       "    .dataframe tbody tr th:only-of-type {\n",
       "        vertical-align: middle;\n",
       "    }\n",
       "\n",
       "    .dataframe tbody tr th {\n",
       "        vertical-align: top;\n",
       "    }\n",
       "\n",
       "    .dataframe thead th {\n",
       "        text-align: right;\n",
       "    }\n",
       "</style>\n",
       "<table border=\"1\" class=\"dataframe\">\n",
       "  <thead>\n",
       "    <tr style=\"text-align: right;\">\n",
       "      <th></th>\n",
       "      <th>专家评论数</th>\n",
       "      <th>电影时长(分钟)</th>\n",
       "      <th>导演facebook点赞数</th>\n",
       "      <th>演员3facebook点赞数</th>\n",
       "      <th>演员1facebook点赞数</th>\n",
       "      <th>总收入</th>\n",
       "      <th>评分用户数</th>\n",
       "      <th>演职人员facebook点赞总数</th>\n",
       "      <th>海报人物个数</th>\n",
       "      <th>用户评论数</th>\n",
       "      <th>预算</th>\n",
       "      <th>上映年份</th>\n",
       "      <th>演员2facebook点赞数</th>\n",
       "      <th>纵横比</th>\n",
       "      <th>电影facebook点赞数</th>\n",
       "      <th>评分</th>\n",
       "    </tr>\n",
       "  </thead>\n",
       "  <tbody>\n",
       "    <tr>\n",
       "      <th>0</th>\n",
       "      <td>723</td>\n",
       "      <td>178</td>\n",
       "      <td>0</td>\n",
       "      <td>855</td>\n",
       "      <td>1000</td>\n",
       "      <td>760505847</td>\n",
       "      <td>886204</td>\n",
       "      <td>4834</td>\n",
       "      <td>0</td>\n",
       "      <td>3054</td>\n",
       "      <td>237000000</td>\n",
       "      <td>2009</td>\n",
       "      <td>936</td>\n",
       "      <td>1.78</td>\n",
       "      <td>33000</td>\n",
       "      <td>7.9</td>\n",
       "    </tr>\n",
       "    <tr>\n",
       "      <th>1</th>\n",
       "      <td>302</td>\n",
       "      <td>169</td>\n",
       "      <td>563</td>\n",
       "      <td>1000</td>\n",
       "      <td>40000</td>\n",
       "      <td>309404152</td>\n",
       "      <td>471220</td>\n",
       "      <td>48350</td>\n",
       "      <td>0</td>\n",
       "      <td>1238</td>\n",
       "      <td>300000000</td>\n",
       "      <td>2007</td>\n",
       "      <td>5000</td>\n",
       "      <td>2.35</td>\n",
       "      <td>0</td>\n",
       "      <td>7.1</td>\n",
       "    </tr>\n",
       "  </tbody>\n",
       "</table>\n",
       "</div>"
      ],
      "text/plain": [
       "   专家评论数  电影时长(分钟)  导演facebook点赞数  演员3facebook点赞数  演员1facebook点赞数        总收入  \\\n",
       "0    723       178              0             855            1000  760505847   \n",
       "1    302       169            563            1000           40000  309404152   \n",
       "\n",
       "    评分用户数  演职人员facebook点赞总数  海报人物个数  用户评论数         预算  上映年份  演员2facebook点赞数  \\\n",
       "0  886204              4834       0   3054  237000000  2009             936   \n",
       "1  471220             48350       0   1238  300000000  2007            5000   \n",
       "\n",
       "    纵横比  电影facebook点赞数   评分  \n",
       "0  1.78          33000  7.9  \n",
       "1  2.35              0  7.1  "
      ]
     },
     "execution_count": 2,
     "metadata": {},
     "output_type": "execute_result"
    }
   ],
   "source": [
    "movie = pd.read_csv('MoiveSpssl.csv',encoding='gbk')\n",
    "movie.head(2)"
   ]
  },
  {
   "cell_type": "code",
   "execution_count": 3,
   "metadata": {},
   "outputs": [
    {
     "data": {
      "text/plain": [
       "6.6"
      ]
     },
     "execution_count": 3,
     "metadata": {},
     "output_type": "execute_result"
    }
   ],
   "source": [
    "np.median(movie.评分)"
   ]
  },
  {
   "cell_type": "code",
   "execution_count": 4,
   "metadata": {},
   "outputs": [],
   "source": [
    "#df_ac['time'] = df_ac['time'].apply(lambda x: x.weekday() + 1)\n",
    "movie['评分2'] = movie['评分'].apply(lambda x:1 if x>6.6 else 0)\n",
    "#data3['评分分类'] = 0\n",
    "#data3['评分分类'] = data3['评分'].map(lambda x:1 if x>7.6 else 0)"
   ]
  },
  {
   "cell_type": "code",
   "execution_count": 5,
   "metadata": {},
   "outputs": [
    {
     "data": {
      "text/html": [
       "<div>\n",
       "<style scoped>\n",
       "    .dataframe tbody tr th:only-of-type {\n",
       "        vertical-align: middle;\n",
       "    }\n",
       "\n",
       "    .dataframe tbody tr th {\n",
       "        vertical-align: top;\n",
       "    }\n",
       "\n",
       "    .dataframe thead th {\n",
       "        text-align: right;\n",
       "    }\n",
       "</style>\n",
       "<table border=\"1\" class=\"dataframe\">\n",
       "  <thead>\n",
       "    <tr style=\"text-align: right;\">\n",
       "      <th></th>\n",
       "      <th>专家评论数</th>\n",
       "      <th>电影时长(分钟)</th>\n",
       "      <th>导演facebook点赞数</th>\n",
       "      <th>演员3facebook点赞数</th>\n",
       "      <th>演员1facebook点赞数</th>\n",
       "      <th>总收入</th>\n",
       "      <th>评分用户数</th>\n",
       "      <th>演职人员facebook点赞总数</th>\n",
       "      <th>海报人物个数</th>\n",
       "      <th>用户评论数</th>\n",
       "      <th>预算</th>\n",
       "      <th>上映年份</th>\n",
       "      <th>演员2facebook点赞数</th>\n",
       "      <th>纵横比</th>\n",
       "      <th>电影facebook点赞数</th>\n",
       "      <th>评分</th>\n",
       "      <th>评分2</th>\n",
       "    </tr>\n",
       "  </thead>\n",
       "  <tbody>\n",
       "    <tr>\n",
       "      <th>0</th>\n",
       "      <td>723</td>\n",
       "      <td>178</td>\n",
       "      <td>0</td>\n",
       "      <td>855</td>\n",
       "      <td>1000</td>\n",
       "      <td>760505847</td>\n",
       "      <td>886204</td>\n",
       "      <td>4834</td>\n",
       "      <td>0</td>\n",
       "      <td>3054</td>\n",
       "      <td>237000000</td>\n",
       "      <td>2009</td>\n",
       "      <td>936</td>\n",
       "      <td>1.78</td>\n",
       "      <td>33000</td>\n",
       "      <td>7.9</td>\n",
       "      <td>1</td>\n",
       "    </tr>\n",
       "    <tr>\n",
       "      <th>1</th>\n",
       "      <td>302</td>\n",
       "      <td>169</td>\n",
       "      <td>563</td>\n",
       "      <td>1000</td>\n",
       "      <td>40000</td>\n",
       "      <td>309404152</td>\n",
       "      <td>471220</td>\n",
       "      <td>48350</td>\n",
       "      <td>0</td>\n",
       "      <td>1238</td>\n",
       "      <td>300000000</td>\n",
       "      <td>2007</td>\n",
       "      <td>5000</td>\n",
       "      <td>2.35</td>\n",
       "      <td>0</td>\n",
       "      <td>7.1</td>\n",
       "      <td>1</td>\n",
       "    </tr>\n",
       "  </tbody>\n",
       "</table>\n",
       "</div>"
      ],
      "text/plain": [
       "   专家评论数  电影时长(分钟)  导演facebook点赞数  演员3facebook点赞数  演员1facebook点赞数        总收入  \\\n",
       "0    723       178              0             855            1000  760505847   \n",
       "1    302       169            563            1000           40000  309404152   \n",
       "\n",
       "    评分用户数  演职人员facebook点赞总数  海报人物个数  用户评论数         预算  上映年份  演员2facebook点赞数  \\\n",
       "0  886204              4834       0   3054  237000000  2009             936   \n",
       "1  471220             48350       0   1238  300000000  2007            5000   \n",
       "\n",
       "    纵横比  电影facebook点赞数   评分  评分2  \n",
       "0  1.78          33000  7.9    1  \n",
       "1  2.35              0  7.1    1  "
      ]
     },
     "execution_count": 5,
     "metadata": {},
     "output_type": "execute_result"
    }
   ],
   "source": [
    "movie.head(2)"
   ]
  },
  {
   "cell_type": "code",
   "execution_count": 6,
   "metadata": {},
   "outputs": [],
   "source": [
    "import pandas as pd"
   ]
  },
  {
   "cell_type": "code",
   "execution_count": 7,
   "metadata": {},
   "outputs": [
    {
     "data": {
      "text/html": [
       "<div>\n",
       "<style scoped>\n",
       "    .dataframe tbody tr th:only-of-type {\n",
       "        vertical-align: middle;\n",
       "    }\n",
       "\n",
       "    .dataframe tbody tr th {\n",
       "        vertical-align: top;\n",
       "    }\n",
       "\n",
       "    .dataframe thead th {\n",
       "        text-align: right;\n",
       "    }\n",
       "</style>\n",
       "<table border=\"1\" class=\"dataframe\">\n",
       "  <thead>\n",
       "    <tr style=\"text-align: right;\">\n",
       "      <th></th>\n",
       "      <th>专家评论数</th>\n",
       "      <th>电影时长(分钟)</th>\n",
       "      <th>导演facebook点赞数</th>\n",
       "      <th>演员3faceboo点赞数</th>\n",
       "      <th>演员1faceboo点赞数</th>\n",
       "      <th>总收入</th>\n",
       "      <th>评分用户数</th>\n",
       "      <th>演职人员facebook点赞总数</th>\n",
       "      <th>海报人物个数</th>\n",
       "      <th>用户评论数</th>\n",
       "      <th>预算</th>\n",
       "      <th>上映年份</th>\n",
       "      <th>演员2facebook点赞数</th>\n",
       "      <th>纵横比</th>\n",
       "      <th>电影facebook点赞数</th>\n",
       "      <th>评分</th>\n",
       "      <th>评分2</th>\n",
       "    </tr>\n",
       "  </thead>\n",
       "  <tbody>\n",
       "    <tr>\n",
       "      <th>0</th>\n",
       "      <td>723</td>\n",
       "      <td>178</td>\n",
       "      <td>0</td>\n",
       "      <td>855</td>\n",
       "      <td>1000</td>\n",
       "      <td>760505847</td>\n",
       "      <td>886204</td>\n",
       "      <td>4834</td>\n",
       "      <td>0</td>\n",
       "      <td>3054</td>\n",
       "      <td>237000000</td>\n",
       "      <td>2009</td>\n",
       "      <td>936</td>\n",
       "      <td>1.78</td>\n",
       "      <td>33000</td>\n",
       "      <td>7.9</td>\n",
       "      <td>1</td>\n",
       "    </tr>\n",
       "    <tr>\n",
       "      <th>1</th>\n",
       "      <td>302</td>\n",
       "      <td>169</td>\n",
       "      <td>563</td>\n",
       "      <td>1000</td>\n",
       "      <td>40000</td>\n",
       "      <td>309404152</td>\n",
       "      <td>471220</td>\n",
       "      <td>48350</td>\n",
       "      <td>0</td>\n",
       "      <td>1238</td>\n",
       "      <td>300000000</td>\n",
       "      <td>2007</td>\n",
       "      <td>5000</td>\n",
       "      <td>2.35</td>\n",
       "      <td>0</td>\n",
       "      <td>7.1</td>\n",
       "      <td>1</td>\n",
       "    </tr>\n",
       "  </tbody>\n",
       "</table>\n",
       "</div>"
      ],
      "text/plain": [
       "   专家评论数  电影时长(分钟)  导演facebook点赞数  演员3faceboo点赞数  演员1faceboo点赞数        总收入  \\\n",
       "0    723       178              0            855           1000  760505847   \n",
       "1    302       169            563           1000          40000  309404152   \n",
       "\n",
       "    评分用户数  演职人员facebook点赞总数  海报人物个数  用户评论数         预算  上映年份  演员2facebook点赞数  \\\n",
       "0  886204              4834       0   3054  237000000  2009             936   \n",
       "1  471220             48350       0   1238  300000000  2007            5000   \n",
       "\n",
       "    纵横比  电影facebook点赞数   评分  评分2  \n",
       "0  1.78          33000  7.9    1  \n",
       "1  2.35              0  7.1    1  "
      ]
     },
     "execution_count": 7,
     "metadata": {},
     "output_type": "execute_result"
    }
   ],
   "source": [
    "movie = pd.read_csv('movieChinese.csv',encoding='gbk')\n",
    "movie.head(2)"
   ]
  },
  {
   "cell_type": "code",
   "execution_count": 8,
   "metadata": {},
   "outputs": [],
   "source": [
    "movie = movie.drop(['评分'],axis=1)"
   ]
  },
  {
   "cell_type": "code",
   "execution_count": 9,
   "metadata": {},
   "outputs": [
    {
     "data": {
      "text/plain": [
       "(3801, 16)"
      ]
     },
     "execution_count": 9,
     "metadata": {},
     "output_type": "execute_result"
    }
   ],
   "source": [
    "movie.shape"
   ]
  },
  {
   "cell_type": "code",
   "execution_count": 10,
   "metadata": {},
   "outputs": [
    {
     "data": {
      "text/html": [
       "<div>\n",
       "<style scoped>\n",
       "    .dataframe tbody tr th:only-of-type {\n",
       "        vertical-align: middle;\n",
       "    }\n",
       "\n",
       "    .dataframe tbody tr th {\n",
       "        vertical-align: top;\n",
       "    }\n",
       "\n",
       "    .dataframe thead th {\n",
       "        text-align: right;\n",
       "    }\n",
       "</style>\n",
       "<table border=\"1\" class=\"dataframe\">\n",
       "  <thead>\n",
       "    <tr style=\"text-align: right;\">\n",
       "      <th></th>\n",
       "      <th>专家评论数</th>\n",
       "      <th>电影时长(分钟)</th>\n",
       "      <th>导演facebook点赞数</th>\n",
       "      <th>演员3faceboo点赞数</th>\n",
       "      <th>演员1faceboo点赞数</th>\n",
       "      <th>总收入</th>\n",
       "      <th>评分用户数</th>\n",
       "      <th>演职人员facebook点赞总数</th>\n",
       "      <th>海报人物个数</th>\n",
       "      <th>用户评论数</th>\n",
       "      <th>预算</th>\n",
       "      <th>上映年份</th>\n",
       "      <th>演员2facebook点赞数</th>\n",
       "      <th>纵横比</th>\n",
       "      <th>电影facebook点赞数</th>\n",
       "      <th>评分2</th>\n",
       "    </tr>\n",
       "  </thead>\n",
       "  <tbody>\n",
       "    <tr>\n",
       "      <th>0</th>\n",
       "      <td>723</td>\n",
       "      <td>178</td>\n",
       "      <td>0</td>\n",
       "      <td>855</td>\n",
       "      <td>1000</td>\n",
       "      <td>760505847</td>\n",
       "      <td>886204</td>\n",
       "      <td>4834</td>\n",
       "      <td>0</td>\n",
       "      <td>3054</td>\n",
       "      <td>237000000</td>\n",
       "      <td>2009</td>\n",
       "      <td>936</td>\n",
       "      <td>1.78</td>\n",
       "      <td>33000</td>\n",
       "      <td>1</td>\n",
       "    </tr>\n",
       "    <tr>\n",
       "      <th>1</th>\n",
       "      <td>302</td>\n",
       "      <td>169</td>\n",
       "      <td>563</td>\n",
       "      <td>1000</td>\n",
       "      <td>40000</td>\n",
       "      <td>309404152</td>\n",
       "      <td>471220</td>\n",
       "      <td>48350</td>\n",
       "      <td>0</td>\n",
       "      <td>1238</td>\n",
       "      <td>300000000</td>\n",
       "      <td>2007</td>\n",
       "      <td>5000</td>\n",
       "      <td>2.35</td>\n",
       "      <td>0</td>\n",
       "      <td>1</td>\n",
       "    </tr>\n",
       "  </tbody>\n",
       "</table>\n",
       "</div>"
      ],
      "text/plain": [
       "   专家评论数  电影时长(分钟)  导演facebook点赞数  演员3faceboo点赞数  演员1faceboo点赞数        总收入  \\\n",
       "0    723       178              0            855           1000  760505847   \n",
       "1    302       169            563           1000          40000  309404152   \n",
       "\n",
       "    评分用户数  演职人员facebook点赞总数  海报人物个数  用户评论数         预算  上映年份  演员2facebook点赞数  \\\n",
       "0  886204              4834       0   3054  237000000  2009             936   \n",
       "1  471220             48350       0   1238  300000000  2007            5000   \n",
       "\n",
       "    纵横比  电影facebook点赞数  评分2  \n",
       "0  1.78          33000    1  \n",
       "1  2.35              0    1  "
      ]
     },
     "execution_count": 10,
     "metadata": {},
     "output_type": "execute_result"
    }
   ],
   "source": [
    "movie.head(2)"
   ]
  },
  {
   "cell_type": "code",
   "execution_count": 11,
   "metadata": {},
   "outputs": [],
   "source": [
    "from sklearn.model_selection import train_test_split # training and testing data split\n",
    "from sklearn import metrics # accuracy measure\n",
    "from sklearn.metrics import confusion_matrix # for confusion matrix"
   ]
  },
  {
   "cell_type": "code",
   "execution_count": 12,
   "metadata": {},
   "outputs": [],
   "source": [
    "#X=movie.drop('评分2',axis=1)\n",
    "#Y=movie.评分2\n",
    "train,test=train_test_split(movie,test_size=0.3,random_state=0,stratify=movie['评分2'])\n",
    "train_Y=train.评分2\n",
    "train_X=train.drop('评分2',axis=1)\n",
    "test_Y=test.评分2\n",
    "test_X=test.drop('评分2',axis=1)\n",
    "#X=data1.drop('score',axis=1)\n",
    "#Y=data1.score"
   ]
  },
  {
   "cell_type": "markdown",
   "metadata": {},
   "source": [
    "# LDA"
   ]
  },
  {
   "cell_type": "code",
   "execution_count": 13,
   "metadata": {},
   "outputs": [
    {
     "name": "stdout",
     "output_type": "stream",
     "text": [
      "Accuracy of LDA classifier on training set: 0.71\n",
      "Accuracy of LDA classifier on test set: 0.71\n"
     ]
    }
   ],
   "source": [
    "from sklearn.discriminant_analysis import LinearDiscriminantAnalysis\n",
    "lda = LinearDiscriminantAnalysis()\n",
    "lda.fit(train_X,train_Y)\n",
    "print('Accuracy of LDA classifier on training set: {:.2f}'\n",
    "    .format(lda.score(train_X,train_Y)))\n",
    "print('Accuracy of LDA classifier on test set: {:.2f}'\n",
    "    .format(lda.score(train_X,train_Y)))"
   ]
  },
  {
   "cell_type": "code",
   "execution_count": 14,
   "metadata": {},
   "outputs": [
    {
     "name": "stdout",
     "output_type": "stream",
     "text": [
      "precision:77.71%,recall:51.42%\n",
      "accuracy:70.64%\n"
     ]
    }
   ],
   "source": [
    "predict = lda.predict(test_X)\n",
    "precision = metrics.precision_score(test_Y,predict)\n",
    "recall = metrics.recall_score(test_Y,predict)\n",
    "accuracy = metrics.accuracy_score(test_Y,predict)\n",
    "print('precision:%.2f%%,recall:%.2f%%'%(100*precision,100*recall))\n",
    "print('accuracy:%.2f%%'%(100*accuracy))"
   ]
  },
  {
   "cell_type": "code",
   "execution_count": 15,
   "metadata": {},
   "outputs": [],
   "source": [
    "import seaborn as sns\n",
    "import matplotlib.pyplot as plt"
   ]
  },
  {
   "cell_type": "markdown",
   "metadata": {},
   "source": [
    "# 误判率"
   ]
  },
  {
   "cell_type": "code",
   "execution_count": 16,
   "metadata": {},
   "outputs": [
    {
     "data": {
      "image/png": "[encoded data removed]",
      "text/plain": [
       "<Figure size 432x288 with 2 Axes>"
      ]
     },
     "metadata": {},
     "output_type": "display_data"
    }
   ],
   "source": [
    "sns.heatmap(confusion_matrix(test_Y,predict),cmap='Blues',annot=True,fmt='2.0f')\n",
    "plt.show()"
   ]
  },
  {
   "cell_type": "code",
   "execution_count": 17,
   "metadata": {},
   "outputs": [
    {
     "data": {
      "text/plain": [
       "<Figure size 432x288 with 0 Axes>"
      ]
     },
     "metadata": {},
     "output_type": "display_data"
    },
    {
     "data": {
      "image/png": "[encoded data removed]",
      "text/plain": [
       "<Figure size 504x504 with 1 Axes>"
      ]
     },
     "metadata": {},
     "output_type": "display_data"
    }
   ],
   "source": [
    "from sklearn.metrics import roc_curve, auc  ###计算roc和auc\n",
    "fpr,tpr,threshold = roc_curve(test_Y, predict) ###计算真正率和假正率\n",
    "roc_auc = auc(fpr,tpr)   ###计算auc的值\n",
    " \n",
    "plt.figure()\n",
    "lw = 2\n",
    "plt.figure(figsize=(7,7))\n",
    "plt.plot(fpr, tpr, color='darkorange',\n",
    "         lw=lw, label='ROC curve (area = %0.2f)' % roc_auc) ###假正率为横坐标，真正率为纵坐标做曲线\n",
    "plt.plot([0, 1], [0, 1], color='navy', lw=lw, linestyle='--')\n",
    "plt.xlim([0.0, 1.0])\n",
    "plt.ylim([0.0, 1.05])\n",
    "plt.xlabel('False Positive Rate')\n",
    "plt.ylabel('True Positive Rate')\n",
    "plt.title('Receiver operating characteristic example')\n",
    "plt.legend(loc=\"lower right\")\n",
    "plt.show()"
   ]
  },
  {
   "cell_type": "markdown",
   "metadata": {},
   "source": [
    "# QDA"
   ]
  },
  {
   "cell_type": "code",
   "execution_count": 18,
   "metadata": {},
   "outputs": [
    {
     "name": "stdout",
     "output_type": "stream",
     "text": [
      "Accuracy of QDA classifier on training set: 0.70\n",
      "Accuracy of QDA classifier on test set: 0.70\n"
     ]
    }
   ],
   "source": [
    "from sklearn.discriminant_analysis import QuadraticDiscriminantAnalysis\n",
    "#from sklearn.discriminant_analysis import LinearDiscriminantAnalysis\n",
    "qda = QuadraticDiscriminantAnalysis()\n",
    "qda.fit(train_X,train_Y)\n",
    "print('Accuracy of QDA classifier on training set: {:.2f}'\n",
    "    .format(qda.score(train_X,train_Y)))\n",
    "print('Accuracy of QDA classifier on test set: {:.2f}'\n",
    "    .format(qda.score(train_X,train_Y)))"
   ]
  },
  {
   "cell_type": "code",
   "execution_count": 19,
   "metadata": {},
   "outputs": [
    {
     "name": "stdout",
     "output_type": "stream",
     "text": [
      "precision:75.67%,recall:42.91%\n",
      "accuracy:67.13%\n"
     ]
    }
   ],
   "source": [
    "predict = qda.predict(test_X)\n",
    "precision = metrics.precision_score(test_Y,predict)\n",
    "recall = metrics.recall_score(test_Y,predict)\n",
    "accuracy = metrics.accuracy_score(test_Y,predict)\n",
    "print('precision:%.2f%%,recall:%.2f%%'%(100*precision,100*recall))\n",
    "print('accuracy:%.2f%%'%(100*accuracy))"
   ]
  },
  {
   "cell_type": "code",
   "execution_count": 20,
   "metadata": {},
   "outputs": [
    {
     "data": {
      "image/png": "[encoded data removed]",
      "text/plain": [
       "<Figure size 432x288 with 2 Axes>"
      ]
     },
     "metadata": {},
     "output_type": "display_data"
    }
   ],
   "source": [
    "import seaborn as sns\n",
    "import matplotlib.pyplot as plt\n",
    "sns.heatmap(confusion_matrix(test_Y,predict),cmap='Blues',annot=True,fmt='2.0f')\n",
    "plt.show()"
   ]
  },
  {
   "cell_type": "code",
   "execution_count": 21,
   "metadata": {},
   "outputs": [
    {
     "data": {
      "text/plain": [
       "<Figure size 432x288 with 0 Axes>"
      ]
     },
     "metadata": {},
     "output_type": "display_data"
    },
    {
     "data": {
      "image/png": "[encoded data removed]",
      "text/plain": [
       "<Figure size 504x504 with 1 Axes>"
      ]
     },
     "metadata": {},
     "output_type": "display_data"
    }
   ],
   "source": [
    "from sklearn.metrics import roc_curve, auc  ###计算roc和auc\n",
    "fpr,tpr,threshold = roc_curve(test_Y, predict) ###计算真正率和假正率\n",
    "roc_auc = auc(fpr,tpr)   ###计算auc的值\n",
    " \n",
    "plt.figure()\n",
    "lw = 2\n",
    "plt.figure(figsize=(7,7))\n",
    "plt.plot(fpr, tpr, color='darkorange',\n",
    "         lw=lw, label='ROC curve (area = %0.2f)' % roc_auc) ###假正率为横坐标，真正率为纵坐标做曲线\n",
    "plt.plot([0, 1], [0, 1], color='navy', lw=lw, linestyle='--')\n",
    "plt.xlim([0.0, 1.0])\n",
    "plt.ylim([0.0, 1.05])\n",
    "plt.xlabel('False Positive Rate')\n",
    "plt.ylabel('True Positive Rate')\n",
    "plt.title('Receiver operating characteristic example')\n",
    "plt.legend(loc=\"lower right\")\n",
    "plt.show()"
   ]
  },
  {
   "cell_type": "code",
   "execution_count": 22,
   "metadata": {},
   "outputs": [
    {
     "data": {
      "text/plain": [
       "array([6.69405618e-01, 3.30593076e-01, 1.24771847e-06, 3.13895812e-08,\n",
       "       2.45954188e-08, 1.86397214e-09, 6.43071879e-10, 2.78875087e-10,\n",
       "       1.69416220e-11])"
      ]
     },
     "execution_count": 22,
     "metadata": {},
     "output_type": "execute_result"
    }
   ],
   "source": [
    "#PCA 三个模块分别对应80 70 60信息量\n",
    "from sklearn.decomposition import PCA\n",
    "pca = PCA(n_components=9)#80％\n",
    "pca.fit(train_X)\n",
    "X_train = pca.transform(train_X)\n",
    "X_test = pca.transform(test_X)\n",
    "#isomap还没具体该参数\n",
    "# from sklearn import manifold\n",
    "# iso = manifold.Isomap(n_neighbors=4, n_components=2)\n",
    "# iso.fit(df)\n",
    "pca.components_\n",
    "pca.explained_variance_ratio_"
   ]
  },
  {
   "cell_type": "code",
   "execution_count": 23,
   "metadata": {},
   "outputs": [
    {
     "name": "stdout",
     "output_type": "stream",
     "text": [
      "[6.69405618e-01 3.30593076e-01 1.24771847e-06 3.13895812e-08\n",
      " 2.45954188e-08 1.86397214e-09 6.43071879e-10 2.78875087e-10\n",
      " 1.69416220e-11]\n"
     ]
    }
   ],
   "source": [
    " print(pca.explained_variance_ratio_)  "
   ]
  },
  {
   "cell_type": "code",
   "execution_count": 24,
   "metadata": {},
   "outputs": [
    {
     "name": "stdout",
     "output_type": "stream",
     "text": [
      "Accuracy of LDA classifier on training set: 0.69\n",
      "Accuracy of LDA classifier on test set: 0.69\n"
     ]
    }
   ],
   "source": [
    "from sklearn.discriminant_analysis import LinearDiscriminantAnalysis\n",
    "lda = LinearDiscriminantAnalysis()\n",
    "lda.fit(X_train,train_Y)\n",
    "print('Accuracy of LDA classifier on training set: {:.2f}'\n",
    "    .format(lda.score(X_train,train_Y)))\n",
    "print('Accuracy of LDA classifier on test set: {:.2f}'\n",
    "    .format(lda.score(X_train,train_Y)))"
   ]
  },
  {
   "cell_type": "code",
   "execution_count": 25,
   "metadata": {},
   "outputs": [
    {
     "name": "stdout",
     "output_type": "stream",
     "text": [
      "precision:81.13%,recall:40.64%\n",
      "accuracy:68.10%\n"
     ]
    }
   ],
   "source": [
    "predict = lda.predict(X_test)\n",
    "precision = metrics.precision_score(test_Y,predict)\n",
    "recall = metrics.recall_score(test_Y,predict)\n",
    "accuracy = metrics.accuracy_score(test_Y,predict)\n",
    "print('precision:%.2f%%,recall:%.2f%%'%(100*precision,100*recall))\n",
    "print('accuracy:%.2f%%'%(100*accuracy))"
   ]
  },
  {
   "cell_type": "code",
   "execution_count": 26,
   "metadata": {},
   "outputs": [
    {
     "data": {
      "image/png": "[encoded data removed]",
      "text/plain": [
       "<Figure size 432x288 with 2 Axes>"
      ]
     },
     "metadata": {},
     "output_type": "display_data"
    }
   ],
   "source": [
    "import seaborn as sns\n",
    "import matplotlib.pyplot as plt\n",
    "sns.heatmap(confusion_matrix(test_Y,predict),cmap='Blues',annot=True,fmt='2.0f')\n",
    "plt.show()"
   ]
  },
  {
   "cell_type": "code",
   "execution_count": 28,
   "metadata": {},
   "outputs": [
    {
     "name": "stdout",
     "output_type": "stream",
     "text": [
      "Accuracy of QDA classifier on training set: 0.67\n",
      "Accuracy of QDA classifier on test set: 0.67\n",
      "precision:76.10%,recall:39.13%\n",
      "accuracy:66.08%\n"
     ]
    }
   ],
   "source": [
    "from sklearn.discriminant_analysis import QuadraticDiscriminantAnalysis\n",
    "#from sklearn.discriminant_analysis import LinearDiscriminantAnalysis\n",
    "qda = QuadraticDiscriminantAnalysis()\n",
    "qda.fit(X_train ,train_Y)\n",
    "print('Accuracy of QDA classifier on training set: {:.2f}'\n",
    "    .format(qda.score(X_train ,train_Y)))\n",
    "print('Accuracy of QDA classifier on test set: {:.2f}'\n",
    "    .format(qda.score(X_train ,train_Y)))\n",
    "predict = qda.predict(X_test)\n",
    "precision = metrics.precision_score(test_Y,predict)\n",
    "recall = metrics.recall_score(test_Y,predict)\n",
    "accuracy = metrics.accuracy_score(test_Y,predict)\n",
    "print('precision:%.2f%%,recall:%.2f%%'%(100*precision,100*recall))\n",
    "print('accuracy:%.2f%%'%(100*accuracy))"
   ]
  },
  {
   "cell_type": "code",
   "execution_count": 29,
   "metadata": {},
   "outputs": [
    {
     "data": {
      "image/png": "[encoded data removed]",
      "text/plain": [
       "<Figure size 432x288 with 2 Axes>"
      ]
     },
     "metadata": {},
     "output_type": "display_data"
    }
   ],
   "source": [
    "import seaborn as sns\n",
    "import matplotlib.pyplot as plt\n",
    "sns.heatmap(confusion_matrix(test_Y,predict),cmap='Blues',annot=True,fmt='2.0f')\n",
    "plt.show()"
   ]
  },
  {
   "cell_type": "markdown",
   "metadata": {},
   "source": [
    "# 提取特征 Method2"
   ]
  },
  {
   "cell_type": "code",
   "execution_count": 34,
   "metadata": {},
   "outputs": [],
   "source": [
    "X=movie.drop('评分2',axis=1)\n",
    "Y=movie.评分2"
   ]
  },
  {
   "cell_type": "code",
   "execution_count": 35,
   "metadata": {},
   "outputs": [
    {
     "name": "stdout",
     "output_type": "stream",
     "text": [
      "有效特征为：专家评论数,电影时长(分钟),导演facebook点赞数,总收入,评分用户数,海报人物个数,上映年份,纵横比,电影facebook点赞数\n"
     ]
    },
    {
     "data": {
      "text/html": [
       "<div>\n",
       "<style scoped>\n",
       "    .dataframe tbody tr th:only-of-type {\n",
       "        vertical-align: middle;\n",
       "    }\n",
       "\n",
       "    .dataframe tbody tr th {\n",
       "        vertical-align: top;\n",
       "    }\n",
       "\n",
       "    .dataframe thead th {\n",
       "        text-align: right;\n",
       "    }\n",
       "</style>\n",
       "<table border=\"1\" class=\"dataframe\">\n",
       "  <thead>\n",
       "    <tr style=\"text-align: right;\">\n",
       "      <th></th>\n",
       "      <th>专家评论数</th>\n",
       "      <th>电影时长(分钟)</th>\n",
       "      <th>导演facebook点赞数</th>\n",
       "      <th>总收入</th>\n",
       "      <th>评分用户数</th>\n",
       "      <th>海报人物个数</th>\n",
       "      <th>上映年份</th>\n",
       "      <th>纵横比</th>\n",
       "      <th>电影facebook点赞数</th>\n",
       "    </tr>\n",
       "  </thead>\n",
       "  <tbody>\n",
       "    <tr>\n",
       "      <th>0</th>\n",
       "      <td>723</td>\n",
       "      <td>178</td>\n",
       "      <td>0</td>\n",
       "      <td>760505847</td>\n",
       "      <td>886204</td>\n",
       "      <td>0</td>\n",
       "      <td>2009</td>\n",
       "      <td>1.78</td>\n",
       "      <td>33000</td>\n",
       "    </tr>\n",
       "    <tr>\n",
       "      <th>1</th>\n",
       "      <td>302</td>\n",
       "      <td>169</td>\n",
       "      <td>563</td>\n",
       "      <td>309404152</td>\n",
       "      <td>471220</td>\n",
       "      <td>0</td>\n",
       "      <td>2007</td>\n",
       "      <td>2.35</td>\n",
       "      <td>0</td>\n",
       "    </tr>\n",
       "    <tr>\n",
       "      <th>2</th>\n",
       "      <td>602</td>\n",
       "      <td>148</td>\n",
       "      <td>0</td>\n",
       "      <td>200074175</td>\n",
       "      <td>275868</td>\n",
       "      <td>1</td>\n",
       "      <td>2015</td>\n",
       "      <td>2.35</td>\n",
       "      <td>85000</td>\n",
       "    </tr>\n",
       "    <tr>\n",
       "      <th>3</th>\n",
       "      <td>813</td>\n",
       "      <td>164</td>\n",
       "      <td>22000</td>\n",
       "      <td>448130642</td>\n",
       "      <td>1144337</td>\n",
       "      <td>0</td>\n",
       "      <td>2012</td>\n",
       "      <td>2.35</td>\n",
       "      <td>164000</td>\n",
       "    </tr>\n",
       "    <tr>\n",
       "      <th>4</th>\n",
       "      <td>462</td>\n",
       "      <td>132</td>\n",
       "      <td>475</td>\n",
       "      <td>73058679</td>\n",
       "      <td>212204</td>\n",
       "      <td>1</td>\n",
       "      <td>2012</td>\n",
       "      <td>2.35</td>\n",
       "      <td>24000</td>\n",
       "    </tr>\n",
       "  </tbody>\n",
       "</table>\n",
       "</div>"
      ],
      "text/plain": [
       "   专家评论数  电影时长(分钟)  导演facebook点赞数        总收入    评分用户数  海报人物个数  上映年份   纵横比  \\\n",
       "0    723       178              0  760505847   886204       0  2009  1.78   \n",
       "1    302       169            563  309404152   471220       0  2007  2.35   \n",
       "2    602       148              0  200074175   275868       1  2015  2.35   \n",
       "3    813       164          22000  448130642  1144337       0  2012  2.35   \n",
       "4    462       132            475   73058679   212204       1  2012  2.35   \n",
       "\n",
       "   电影facebook点赞数  \n",
       "0          33000  \n",
       "1              0  \n",
       "2          85000  \n",
       "3         164000  \n",
       "4          24000  "
      ]
     },
     "execution_count": 35,
     "metadata": {},
     "output_type": "execute_result"
    }
   ],
   "source": [
    "def logic_choose_train(a, b): #提取特征\n",
    "    from sklearn.linear_model import RandomizedLogisticRegression as RLR \n",
    "    RLR = RLR()\n",
    "    RLR.fit(a, b)\n",
    "    RLR.get_support()\n",
    "    print('有效特征为：{}'.format(','.join(a.columns[RLR.get_support()])))\n",
    "    x = a[a.columns[RLR.get_support()]]\n",
    "    return x\n",
    "\n",
    "#data=logic_choose_train(X,Y)\n",
    "logic_choose_train(X,Y).head()"
   ]
  },
  {
   "cell_type": "code",
   "execution_count": 36,
   "metadata": {},
   "outputs": [],
   "source": [
    "#importing all the required ML packages\n",
    "from sklearn.linear_model import LogisticRegression  # LR\n",
    "from sklearn import svm # SVM\n",
    "from sklearn.ensemble import RandomForestClassifier # RF\n",
    "from sklearn.neighbors import KNeighborsClassifier # KNN\n",
    "from sklearn.naive_bayes import GaussianNB # NB\n",
    "from sklearn.tree import DecisionTreeClassifier # DT\n",
    "from sklearn.model_selection import train_test_split # training and testing data split\n",
    "from sklearn import metrics # accuracy measure\n",
    "from sklearn.metrics import confusion_matrix # for confusion matrix\n",
    "\n",
    "from sklearn.linear_model import LogisticRegression\n",
    "from sklearn.linear_model import RandomizedLogisticRegression as RLR\n",
    "import pandas as pd\n",
    "import numpy as np\n",
    "import warnings\n",
    "from sklearn import metrics  \n",
    "from sklearn.svm import SVC \n",
    "from sklearn.decomposition import PCA\n",
    "from sklearn.pipeline import Pipeline\n",
    "from sklearn.model_selection import GridSearchCV     #用pipline结合GridSearchCV，找到分数最高的保留特征数\n",
    "from sklearn import preprocessing\n",
    "import matplotlib.pyplot as plt\n",
    "warnings.filterwarnings('ignore')\n",
    "import seaborn as sns"
   ]
  },
  {
   "cell_type": "code",
   "execution_count": 37,
   "metadata": {},
   "outputs": [],
   "source": [
    "def train_test(data): \n",
    "    data['is_train'] = np.random.uniform(0,1,len(data)) <=0.8\n",
    "    train,test = data[data['is_train']==True],data[data['is_train']==False] # 拆分训练集：测试集 = 4:1\n",
    "    train_y = train.评分2.as_matrix() #x，y统一为numpy.ndarray\n",
    "    tra_x = train.loc[:,['专家评论数','电影时长(分钟)','导演facebook点赞数','总收入','评分用户数','海报人物个数','上映年份','电影facebook点赞数']]\n",
    "    train_x = preprocessing.scale(tra_x)   #数据标准化\n",
    "    test_y = test.评分2.as_matrix()\n",
    "    te_x = test.loc[:,['专家评论数','电影时长(分钟)','导演facebook点赞数','总收入','评分用户数','海报人物个数','上映年份','电影facebook点赞数']]\n",
    "    test_x = preprocessing.scale(te_x)\n",
    "    return train_x, train_y, test_x, test_y\n",
    "train_x, train_y, test_x, test_y = train_test(movie)"
   ]
  },
  {
   "cell_type": "code",
   "execution_count": 51,
   "metadata": {},
   "outputs": [
    {
     "name": "stdout",
     "output_type": "stream",
     "text": [
      "Accuracy of LDA classifier on training set: 0.71\n",
      "Accuracy of LDA classifier on test set: 0.71\n"
     ]
    }
   ],
   "source": [
    "from sklearn.discriminant_analysis import LinearDiscriminantAnalysis\n",
    "lda = LinearDiscriminantAnalysis()\n",
    "lda.fit(train_x,train_y)\n",
    "print('Accuracy of LDA classifier on training set: {:.2f}'\n",
    "    .format(lda.score(train_x,train_y)))\n",
    "print('Accuracy of LDA classifier on test set: {:.2f}'\n",
    "    .format(lda.score(train_x,train_y)))"
   ]
  },
  {
   "cell_type": "code",
   "execution_count": 52,
   "metadata": {},
   "outputs": [
    {
     "name": "stdout",
     "output_type": "stream",
     "text": [
      "precision:76.71%,recall:52.62%\n",
      "accuracy:70.70%\n"
     ]
    }
   ],
   "source": [
    "predict = lda.predict(test_x)\n",
    "precision = metrics.precision_score(test_y,predict)\n",
    "recall = metrics.recall_score(test_y,predict)\n",
    "accuracy = metrics.accuracy_score(test_y,predict)\n",
    "print('precision:%.2f%%,recall:%.2f%%'%(100*precision,100*recall))\n",
    "print('accuracy:%.2f%%'%(100*accuracy))"
   ]
  },
  {
   "cell_type": "code",
   "execution_count": 53,
   "metadata": {},
   "outputs": [
    {
     "data": {
      "image/png": "[encoded data removed]",
      "text/plain": [
       "<Figure size 432x288 with 2 Axes>"
      ]
     },
     "metadata": {},
     "output_type": "display_data"
    }
   ],
   "source": [
    "import seaborn as sns\n",
    "import matplotlib.pyplot as plt\n",
    "sns.heatmap(confusion_matrix(test_y,predict),cmap='Blues',annot=True,fmt='2.0f')\n",
    "plt.show()"
   ]
  },
  {
   "cell_type": "markdown",
   "metadata": {},
   "source": [
    "# QDA"
   ]
  },
  {
   "cell_type": "code",
   "execution_count": 40,
   "metadata": {},
   "outputs": [
    {
     "name": "stdout",
     "output_type": "stream",
     "text": [
      "Accuracy of QDA classifier on training set: 0.70\n",
      "Accuracy of QDA classifier on test set: 0.70\n",
      "precision:80.75%,recall:47.38%\n",
      "accuracy:70.45%\n"
     ]
    },
    {
     "data": {
      "image/png": "[encoded data removed]",
      "text/plain": [
       "<Figure size 432x288 with 2 Axes>"
      ]
     },
     "metadata": {},
     "output_type": "display_data"
    }
   ],
   "source": [
    "from sklearn.discriminant_analysis import QuadraticDiscriminantAnalysis\n",
    "#from sklearn.discriminant_analysis import LinearDiscriminantAnalysis\n",
    "qda = QuadraticDiscriminantAnalysis()\n",
    "qda.fit(train_x,train_y)\n",
    "print('Accuracy of QDA classifier on training set: {:.2f}'\n",
    "    .format(qda.score(train_x,train_y)))\n",
    "print('Accuracy of QDA classifier on test set: {:.2f}'\n",
    "    .format(qda.score(train_x,train_y)))\n",
    "predict = qda.predict(test_x)\n",
    "precision = metrics.precision_score(test_y,predict)\n",
    "recall = metrics.recall_score(test_y,predict)\n",
    "accuracy = metrics.accuracy_score(test_y,predict)\n",
    "print('precision:%.2f%%,recall:%.2f%%'%(100*precision,100*recall))\n",
    "print('accuracy:%.2f%%'%(100*accuracy))\n",
    "import seaborn as sns\n",
    "import matplotlib.pyplot as plt\n",
    "sns.heatmap(confusion_matrix(test_y,predict),cmap='Blues',annot=True,fmt='2.0f')\n",
    "plt.show()"
   ]
  },
  {
   "cell_type": "markdown",
   "metadata": {},
   "source": [
    "# pca  and lda"
   ]
  },
  {
   "cell_type": "code",
   "execution_count": 41,
   "metadata": {},
   "outputs": [
    {
     "data": {
      "text/plain": [
       "Index(['专家评论数', '电影时长(分钟)', '导演facebook点赞数', '演员3faceboo点赞数', '演员1faceboo点赞数',\n",
       "       '总收入', '评分用户数', '演职人员facebook点赞总数', '海报人物个数', '用户评论数', '预算', '上映年份',\n",
       "       '演员2facebook点赞数', '纵横比', '电影facebook点赞数'],\n",
       "      dtype='object')"
      ]
     },
     "execution_count": 41,
     "metadata": {},
     "output_type": "execute_result"
    }
   ],
   "source": [
    "X.columns"
   ]
  },
  {
   "cell_type": "code",
   "execution_count": 42,
   "metadata": {},
   "outputs": [],
   "source": [
    "def set_ch(): \n",
    "    \"在plot图中显示中文\"\n",
    "    from pylab import mpl\n",
    "    mpl.rcParams['font.sans-serif'] = ['FangSong'] # 指定默认字体\n",
    "    mpl.rcParams['axes.unicode_minus'] = False # 解决保存图像是负号'-'显示为方块的问题\n",
    "    return\n",
    "set_ch() # 显示中文在plot中"
   ]
  },
  {
   "cell_type": "code",
   "execution_count": 43,
   "metadata": {},
   "outputs": [
    {
     "name": "stdout",
     "output_type": "stream",
     "text": [
      "Automatically created module for IPython interactive environment\n",
      "explained variance ratio (first two components): [0.91226161 0.08773812]\n"
     ]
    }
   ],
   "source": [
    "print(__doc__)\n",
    "\n",
    "import matplotlib.pyplot as plt\n",
    "\n",
    "from sklearn import datasets\n",
    "from sklearn.decomposition import PCA\n",
    "from sklearn.discriminant_analysis import LinearDiscriminantAnalysis\n",
    "\n",
    "iris = movie\n",
    "\n",
    "#X=movie.drop('评分2',axis=1)\n",
    "#Y=movie.评分2\n",
    "X = iris.drop('评分2',axis=1)\n",
    "y = iris.评分2\n",
    "target_names = [0,1]\n",
    "\n",
    "pca = PCA(n_components=2)\n",
    "X_r = pca.fit(X).transform(X)\n",
    "\n",
    "lda = LinearDiscriminantAnalysis(n_components=2)\n",
    "X_r2 = lda.fit(X, y).transform(X)\n",
    "\n",
    "# Percentage of variance explained for each components\n",
    "print('explained variance ratio (first two components): %s'\n",
    "      % str(pca.explained_variance_ratio_))\n",
    "\n"
   ]
  },
  {
   "cell_type": "code",
   "execution_count": 44,
   "metadata": {},
   "outputs": [
    {
     "data": {
      "text/plain": [
       "Text(0.5,1,'PCA of Movie dataset')"
      ]
     },
     "execution_count": 44,
     "metadata": {},
     "output_type": "execute_result"
    },
    {
     "data": {
      "image/png": "[encoded data removed]",
      "text/plain": [
       "<Figure size 432x288 with 1 Axes>"
      ]
     },
     "metadata": {},
     "output_type": "display_data"
    }
   ],
   "source": [
    "plt.figure()\n",
    "colors = ['turquoise','darkorange']\n",
    "lw = 2\n",
    "\n",
    "for color, i, target_name in zip(colors, [0, 1], target_names):\n",
    "    plt.scatter(X_r[y == i, 0], X_r[y == i, 1], color=color, alpha=.8, lw=lw,\n",
    "                label=target_name)\n",
    "plt.legend(loc='best', shadow=False, scatterpoints=1)\n",
    "plt.title('PCA of Movie dataset')\n",
    "\n"
   ]
  },
  {
   "cell_type": "code",
   "execution_count": 45,
   "metadata": {},
   "outputs": [
    {
     "ename": "IndexError",
     "evalue": "index 1 is out of bounds for axis 1 with size 1",
     "output_type": "error",
     "traceback": [
      "\u001b[1;31m---------------------------------------------------------------------------\u001b[0m",
      "\u001b[1;31mIndexError\u001b[0m                                Traceback (most recent call last)",
      "\u001b[1;32m<ipython-input-45-1501c2dc3a24>\u001b[0m in \u001b[0;36m<module>\u001b[1;34m()\u001b[0m\n\u001b[0;32m      1\u001b[0m \u001b[0mplt\u001b[0m\u001b[1;33m.\u001b[0m\u001b[0mfigure\u001b[0m\u001b[1;33m(\u001b[0m\u001b[1;33m)\u001b[0m\u001b[1;33m\u001b[0m\u001b[0m\n\u001b[0;32m      2\u001b[0m \u001b[1;32mfor\u001b[0m \u001b[0mcolor\u001b[0m\u001b[1;33m,\u001b[0m \u001b[0mi\u001b[0m\u001b[1;33m,\u001b[0m \u001b[0mtarget_name\u001b[0m \u001b[1;32min\u001b[0m \u001b[0mzip\u001b[0m\u001b[1;33m(\u001b[0m\u001b[0mcolors\u001b[0m\u001b[1;33m,\u001b[0m \u001b[1;33m[\u001b[0m\u001b[1;36m0\u001b[0m\u001b[1;33m,\u001b[0m \u001b[1;36m1\u001b[0m\u001b[1;33m]\u001b[0m\u001b[1;33m,\u001b[0m \u001b[0mtarget_names\u001b[0m\u001b[1;33m)\u001b[0m\u001b[1;33m:\u001b[0m\u001b[1;33m\u001b[0m\u001b[0m\n\u001b[1;32m----> 3\u001b[1;33m     \u001b[0mplt\u001b[0m\u001b[1;33m.\u001b[0m\u001b[0mscatter\u001b[0m\u001b[1;33m(\u001b[0m\u001b[0mX_r2\u001b[0m\u001b[1;33m[\u001b[0m\u001b[0my\u001b[0m \u001b[1;33m==\u001b[0m \u001b[0mi\u001b[0m\u001b[1;33m,\u001b[0m \u001b[1;36m0\u001b[0m\u001b[1;33m]\u001b[0m\u001b[1;33m,\u001b[0m \u001b[0mX_r2\u001b[0m\u001b[1;33m[\u001b[0m\u001b[0my\u001b[0m \u001b[1;33m==\u001b[0m \u001b[0mi\u001b[0m\u001b[1;33m,\u001b[0m \u001b[1;36m1\u001b[0m\u001b[1;33m]\u001b[0m\u001b[1;33m,\u001b[0m \u001b[0malpha\u001b[0m\u001b[1;33m=\u001b[0m\u001b[1;36m.8\u001b[0m\u001b[1;33m,\u001b[0m \u001b[0mcolor\u001b[0m\u001b[1;33m=\u001b[0m\u001b[0mcolor\u001b[0m\u001b[1;33m,\u001b[0m\u001b[0mlabel\u001b[0m\u001b[1;33m=\u001b[0m\u001b[0mtarget_name\u001b[0m\u001b[1;33m)\u001b[0m\u001b[1;33m\u001b[0m\u001b[0m\n\u001b[0m\u001b[0;32m      4\u001b[0m \u001b[0mplt\u001b[0m\u001b[1;33m.\u001b[0m\u001b[0mlegend\u001b[0m\u001b[1;33m(\u001b[0m\u001b[0mloc\u001b[0m\u001b[1;33m=\u001b[0m\u001b[1;34m'best'\u001b[0m\u001b[1;33m,\u001b[0m \u001b[0mshadow\u001b[0m\u001b[1;33m=\u001b[0m\u001b[1;32mFalse\u001b[0m\u001b[1;33m,\u001b[0m \u001b[0mscatterpoints\u001b[0m\u001b[1;33m=\u001b[0m\u001b[1;36m1\u001b[0m\u001b[1;33m)\u001b[0m\u001b[1;33m\u001b[0m\u001b[0m\n\u001b[0;32m      5\u001b[0m \u001b[0mplt\u001b[0m\u001b[1;33m.\u001b[0m\u001b[0mtitle\u001b[0m\u001b[1;33m(\u001b[0m\u001b[1;34m'LDA of IRIS dataset'\u001b[0m\u001b[1;33m)\u001b[0m\u001b[1;33m\u001b[0m\u001b[0m\n",
      "\u001b[1;31mIndexError\u001b[0m: index 1 is out of bounds for axis 1 with size 1"
     ]
    },
    {
     "data": {
      "text/plain": [
       "<Figure size 432x288 with 0 Axes>"
      ]
     },
     "metadata": {},
     "output_type": "display_data"
    }
   ],
   "source": [
    "plt.figure()\n",
    "for color, i, target_name in zip(colors, [0, 1], target_names):\n",
    "    plt.scatter(X_r2[y == i, 0], X_r2[y == i, 1], alpha=.8, color=color,label=target_name)\n",
    "plt.legend(loc='best', shadow=False, scatterpoints=1)\n",
    "plt.title('LDA of IRIS dataset')\n",
    "\n",
    "plt.show()"
   ]
  },
  {
   "cell_type": "code",
   "execution_count": 46,
   "metadata": {},
   "outputs": [],
   "source": [
    "#importing all the required ML packages\n",
    "from sklearn.linear_model import LogisticRegression  # LR\n",
    "from sklearn import svm # SVM\n",
    "from sklearn.ensemble import RandomForestClassifier # RF\n",
    "from sklearn.neighbors import KNeighborsClassifier # KNN\n",
    "from sklearn.naive_bayes import GaussianNB # NB\n",
    "from sklearn.tree import DecisionTreeClassifier # DT\n",
    "from sklearn.model_selection import train_test_split # training and testing data split\n",
    "from sklearn import metrics # accuracy measure\n",
    "from sklearn.metrics import confusion_matrix # for confusion matrix"
   ]
  },
  {
   "cell_type": "code",
   "execution_count": 47,
   "metadata": {},
   "outputs": [],
   "source": [
    "from sklearn.linear_model import LogisticRegression\n",
    "from sklearn.linear_model import RandomizedLogisticRegression as RLR\n",
    "import pandas as pd\n",
    "import numpy as np\n",
    "import warnings\n",
    "from sklearn import metrics  \n",
    "from sklearn.svm import SVC \n",
    "from sklearn.decomposition import PCA\n",
    "from sklearn.pipeline import Pipeline\n",
    "from sklearn.model_selection import GridSearchCV     #用pipline结合GridSearchCV，找到分数最高的保留特征数\n",
    "from sklearn import preprocessing\n",
    "import matplotlib.pyplot as plt\n",
    "warnings.filterwarnings('ignore')\n",
    "import seaborn as sns"
   ]
  },
  {
   "cell_type": "markdown",
   "metadata": {},
   "source": [
    "# LR"
   ]
  },
  {
   "cell_type": "code",
   "execution_count": 48,
   "metadata": {},
   "outputs": [
    {
     "name": "stdout",
     "output_type": "stream",
     "text": [
      "precision: 76.07%, recall: 58.68%\n",
      "accuracy: 72.36%\n"
     ]
    }
   ],
   "source": [
    "model = LogisticRegression(class_weight='balanced')    #样本是失衡的\n",
    "model.fit(train_x, train_y) \n",
    "predict = model.predict(test_x)\n",
    "precision = metrics.precision_score(test_y, predict) \n",
    "recall = metrics.recall_score(test_y, predict)\n",
    "print('precision: %.2f%%, recall: %.2f%%' % (100 * precision, 100 * recall))\n",
    "accuracy = metrics.accuracy_score(test_y, predict) \n",
    "print('accuracy: %.2f%%' % (100 * accuracy))"
   ]
  },
  {
   "cell_type": "markdown",
   "metadata": {},
   "source": [
    "# NB"
   ]
  },
  {
   "cell_type": "code",
   "execution_count": 76,
   "metadata": {},
   "outputs": [
    {
     "name": "stdout",
     "output_type": "stream",
     "text": [
      "precision:72.04%,recall:41.76%\n",
      "accuracy:66.38%\n"
     ]
    }
   ],
   "source": [
    "model=GaussianNB()\n",
    "model.fit(train_x,train_y)\n",
    "prediction6=model.predict(test_x)\n",
    "#print('The accuracy of the NaiveBayes is',metrics.accuracy_score(prediction6,test_Y))\n",
    "\n",
    "\n",
    "\n",
    "precision = metrics.precision_score(test_y,prediction6)\n",
    "recall = metrics.recall_score(test_y,prediction6)\n",
    "accuracy = metrics.accuracy_score(test_y,prediction6)\n",
    "print('precision:%.2f%%,recall:%.2f%%'%(100*precision,100*recall))\n",
    "print('accuracy:%.2f%%'%(100*accuracy))"
   ]
  },
  {
   "cell_type": "markdown",
   "metadata": {},
   "source": [
    "# SVM"
   ]
  },
  {
   "cell_type": "code",
   "execution_count": 49,
   "metadata": {},
   "outputs": [
    {
     "name": "stdout",
     "output_type": "stream",
     "text": [
      "precision: 82.57%, recall: 49.59%\n",
      "accuracy: 71.85%\n"
     ]
    }
   ],
   "source": [
    "# SVM Classifier \n",
    "#model_SVM = SVC(kernel='rbf', probability=True)#rbf高斯kernel\n",
    "model_SVM  = SVC(C=0.5, kernel='linear', decision_function_shape='ovr')#线性的效果最好\n",
    "#smodel_SVM = SVC(C=0.8, kernel='rbf', gamma=20, decision_function_shape='ovr')\n",
    "model_SVM.fit(train_x, train_y)\n",
    "predict_SVM = model_SVM.predict(test_x)\n",
    "precision_SVM = metrics.precision_score(test_y, predict_SVM) \n",
    "recall_SVM = metrics.recall_score(test_y, predict_SVM)\n",
    "print('precision: %.2f%%, recall: %.2f%%' % (100 * precision_SVM, 100 * recall_SVM))\n",
    "accuracy_SVM = metrics.accuracy_score(test_y, predict_SVM) \n",
    "print('accuracy: %.2f%%' % (100 * accuracy_SVM))"
   ]
  }
 ],
 "metadata": {
  "kernelspec": {
   "display_name": "Python 3",
   "language": "python",
   "name": "python3"
  },
  "language_info": {
   "codemirror_mode": {
    "name": "ipython",
    "version": 3
   },
   "file_extension": ".py",
   "mimetype": "text/x-python",
   "name": "python",
   "nbconvert_exporter": "python",
   "pygments_lexer": "ipython3",
   "version": "3.6.5"
  }
 },
 "nbformat": 4,
 "nbformat_minor": 2
}
